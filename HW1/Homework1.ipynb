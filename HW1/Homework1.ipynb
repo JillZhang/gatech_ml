{
 "cells": [
  {
   "cell_type": "markdown",
   "metadata": {},
   "source": [
    "# Introduction\n",
    "__Data Sources__\n",
    "\n",
    "The data includes the Austin Animal Center's intake data extracted from the Socrata Open Data API. The data date ranges from Oct, 2013 to March, 2018.\n",
    "\n",
    "__Why do I choose this topic?__\n",
    "\n",
    "According the dataset, there are major 4 outcomes the animal can end up with: adoption, return to the owner, transfer to other shelters, and died(including Euthanasia). The final outcome of the animal is determined by a lot factors: animal type, animal sex, animal breed and etc. The topic is chosen for the benefit of the animals. It can be really helpful to know to forecast the final outcome of the animal. According to the prediction, the shelter can plan accordingly and allocate resouces. \n",
    "\n",
    "__Description of the dataset__\n",
    "\n",
    "There are major two parts of take: 1. information of the intake: this includes a bundle of features describing the situation when the animal is intaken. 2. information of the outcome: this includes a bundle of feature on the animal on outcome date. In the model, I will mainly use the intake variables, since we will only know those when trying to make prediction. The only exception is the outcome age, outcome sex, outcome month, outcome year. It will help us to find what's the best age/sex/time for a animal to be adopted. When predicting, we just replace those variables with current age/sex/time.\n"
   ]
  },
  {
   "cell_type": "code",
   "execution_count": 1,
   "metadata": {
    "collapsed": false
   },
   "outputs": [],
   "source": [
    "import numpy as np\n",
    "import pandas as pd\n",
    "import matplotlib.pyplot as plt\n",
    "import seaborn as sns\n",
    "import sklearn\n",
    "from sklearn.model_selection import train_test_split\n",
    "import warnings\n",
    "#import all algorithm packages\n",
    "from sklearn.tree import DecisionTreeClassifier\n",
    "from sklearn.neural_network import MLPClassifier\n",
    "from sklearn.ensemble import GradientBoostingClassifier \n",
    "from sklearn import svm\n",
    "from sklearn.neighbors import KNeighborsClassifier\n",
    "from xgboost import XGBClassifier\n",
    "from datetime import datetime\n",
    "from sklearn.model_selection import StratifiedKFold\n",
    "from sklearn.model_selection import RandomizedSearchCV\n",
    "from sklearn import metrics\n",
    "from sklearn.model_selection import GridSearchCV, cross_val_score\n",
    "warnings.filterwarnings('ignore')\n",
    "%matplotlib inline"
   ]
  },
  {
   "cell_type": "markdown",
   "metadata": {},
   "source": [
    "# Loading the data"
   ]
  },
  {
   "cell_type": "markdown",
   "metadata": {},
   "source": [
    "We will load the data from the csv file. There are 9 outcome types in the file. There are 79k rows, and 41 columns in the data. This is relative small for a complex machine learning project(eg. neutral network with thousands of layers). However, the data records should be enough for a lot of machine learning algorithm to be effective.\n",
    "\n",
    "Note that there are actually 9 categories in the outcome type variable. However, values other than the major 4 categories(adoption, return to owner, transfer, die) only accounted for less than 0.3% of the total dataset. We will simply remove these 200 records in the dataset so that we can focus on the major categories. The new dataset's shape is (79422, 42). We name the new target variable as \"target\"."
   ]
  },
  {
   "cell_type": "code",
   "execution_count": 2,
   "metadata": {
    "collapsed": false
   },
   "outputs": [
    {
     "name": "stdout",
     "output_type": "stream",
     "text": [
      "The original shape of the data is  (79672, 41)\n"
     ]
    }
   ],
   "source": [
    "df = pd.read_csv(\"aac_intakes_outcomes.csv\", header = 0)\n",
    "print \"The original shape of the data is \", df.shape"
   ]
  },
  {
   "cell_type": "code",
   "execution_count": 9,
   "metadata": {
    "collapsed": false,
    "scrolled": false
   },
   "outputs": [
    {
     "name": "stdout",
     "output_type": "stream",
     "text": [
      "outcome_type\n",
      "Adoption           33594\n",
      "Transfer           23799\n",
      "Return to Owner    14791\n",
      "Euthanasia          6244\n",
      "Died                 690\n",
      "Disposal             304\n",
      "Rto-Adopt            179\n",
      "Missing               46\n",
      "Relocate              15\n",
      "Name: outcome_type, dtype: int64\n",
      "The new dataset's shape is (79422, 42)\n"
     ]
    }
   ],
   "source": [
    "print df.groupby([\"outcome_type\"])[\"outcome_type\"].count().sort_values(ascending = False)\n",
    "final_df = df.loc[df.outcome_type.isin([\"Adoption\",\"Transfer\",\"Return to Owner\",\"Euthanasia\",\"Died\",\"Disposal\"]), ]\n",
    "def target(x):\n",
    "    if x in [\"Euthanasia\",\"Died\",\"Disposal\"]: \n",
    "        return \"Died\" \n",
    "    else: \n",
    "        return x\n",
    "    \n",
    "final_df.loc[:,\"target\"]  = final_df.outcome_type.apply(lambda x: target(x))\n",
    "print \"The new dataset's shape is\", final_df.shape"
   ]
  },
  {
   "cell_type": "code",
   "execution_count": 7,
   "metadata": {
    "collapsed": false
   },
   "outputs": [
    {
     "name": "stdout",
     "output_type": "stream",
     "text": [
      "outcome_type\n",
      "Adoption           33594\n",
      "Transfer           23799\n",
      "Return to Owner    14791\n",
      "Euthanasia          6244\n",
      "Died                 690\n",
      "Disposal             304\n",
      "Rto-Adopt            179\n",
      "Missing               46\n",
      "Relocate              15\n",
      "Name: outcome_type, dtype: int64\n",
      "The new dataset's shape is (79422, 42)\n"
     ]
    }
   ],
   "source": [
    "print df.groupby([\"outcome_type\"])[\"outcome_type\"].count().sort_values(ascending = False)\n",
    "final_df =df.loc[df.outcome_type.isin([\"Adoption\",\"Transfer\",\"Return to Owner\",\"Euthanasia\",\"Died\",\"Disposal\"]), ]\n",
    "def target(x):\n",
    "    if x in [\"Euthanasia\",\"Died\",\"Disposal\",\"Transfer\"]: \n",
    "        return 0\n",
    "    else: \n",
    "        return 1\n",
    "    \n",
    "final_df.loc[:,\"target\"]  = final_df.outcome_type.apply(lambda x: target(x))\n",
    "print \"The new dataset's shape is\", final_df.shape"
   ]
  },
  {
   "cell_type": "code",
   "execution_count": 8,
   "metadata": {
    "collapsed": true
   },
   "outputs": [],
   "source": [
    "final_df.to_csv('input_data.csv')"
   ]
  },
  {
   "cell_type": "markdown",
   "metadata": {},
   "source": [
    "# Data Transform\n",
    "\n",
    "Before building models, we need to transform the feature to appropriate format. The following features are manipulated and converted to binary variables for model training:\n",
    "\n",
    "1. Sex upon outcome: We can clearly see that neutered males and spayed females are much more likely to be adopted than other sex.\n",
    "2. Animal type: Cats are more likely to be transfer than dogs\n",
    "3. Intake condition: if the animal is sick or injure when intaking, it is much likely to die\n",
    "4. Intake type: when the animal comes from Euthansia request or wildllife, it is very likely to die. If it comes from public assistant, it is more likely to be returned to owner. If it is owner surrendered, then the animal is more likely to be adopt.\n",
    "5. Breed: we have more 1000 breed types for dogs and 100 breed types for cats. Obviously we cannot take all breed types into model. After some exploration anaysis, I decide to take only the top 30 dogs and top 20 cat breed. Usually, the more popular the breed, the higher the adoption rate.\n",
    "6. Color: There are more 200 colors in the data set. We transformed it to four major types: \"Black\", \"Dark color\", \"Light color\", \"muti-color\""
   ]
  },
  {
   "cell_type": "markdown",
   "metadata": {},
   "source": [
    "## Sex_upon_outcome, animal_type, intake_condition, intake_type"
   ]
  },
  {
   "cell_type": "code",
   "execution_count": 10,
   "metadata": {
    "collapsed": false
   },
   "outputs": [],
   "source": [
    "#final_df.loc[,\"avg_column\"] = 1\n",
    "def get_df(input_x, df = final_df):\n",
    "    df.loc[:,\"count_column\"] = 1\n",
    "    df.loc[: ,\"avg_column\"] = 1\n",
    "    #print df.loc['avg_column']\n",
    "    new_df = df.groupby([input_x,\"target\"]).agg({\"count_column\":'count', 'avg_column':'count'})\n",
    "    new_df[\"count_column\"] = new_df.groupby(level=0).transform(lambda x: x/x.sum())\n",
    "    new_df.reset_index(inplace = True)\n",
    "    return new_df"
   ]
  },
  {
   "cell_type": "code",
   "execution_count": 11,
   "metadata": {
    "collapsed": false,
    "scrolled": false
   },
   "outputs": [
    {
     "data": {
      "text/plain": [
       "<matplotlib.legend.Legend at 0x21e01f60>"
      ]
     },
     "execution_count": 11,
     "metadata": {},
     "output_type": "execute_result"
    },
    {
     "data": {
      "image/png": "[encoded data removed]",
      "text/plain": [
       "<matplotlib.figure.Figure at 0x20a9eb38>"
      ]
     },
     "metadata": {},
     "output_type": "display_data"
    }
   ],
   "source": [
    "f, axes = plt.subplots(2, 2, figsize=(14, 5), sharex=False)\n",
    "for i,c in enumerate(['sex_upon_outcome','animal_type','intake_condition','intake_type']):\n",
    "    ax_x = i/2\n",
    "    ax_y = i%2\n",
    "    new_df = get_df(c, df = final_df)\n",
    "    sns.barplot(x = c, y = \"count_column\", hue = \"target\", data= new_df, ax=axes[ax_x][ax_y])\n",
    "    axes[ax_x][ax_y].legend_.remove()\n",
    "plt.xticks(rotation=45)\n",
    "axes[0][0].legend()"
   ]
  },
  {
   "cell_type": "markdown",
   "metadata": {},
   "source": [
    "## TOP 30 dogs"
   ]
  },
  {
   "cell_type": "code",
   "execution_count": 12,
   "metadata": {
    "collapsed": false
   },
   "outputs": [],
   "source": [
    "final_df['breed_group'] = final_df['breed']\n",
    "dog_breed = final_df.loc[final_df.animal_type == 'Dog','breed']\n",
    "replace_f = lambda x: str(x).replace(' Mix',\"\")\n",
    "v_replace_f = np.vectorize(replace_f)\n",
    "dog_breed = np.unique(v_replace_f(dog_breed))\n",
    "dog_breed.sort()\n",
    "dog_group = {}\n",
    "current_group = dog_breed[0]\n",
    "for d in dog_breed:\n",
    "    if d.startswith(current_group):\n",
    "        pass\n",
    "    else:\n",
    "        current_group = d\n",
    "    dog_group[d] = current_group[:]\n",
    "dog_breed_df = final_df.loc[final_df.animal_type == 'Dog',['breed','target','age_upon_outcome']]\n",
    "dog_breed_df['breed'] = dog_breed_df['breed'].apply(lambda x: dog_group[replace_f(x)])\n",
    "Top30dogs = dog_breed_df['breed'].value_counts().index[:30]\n",
    "def transform_dog_breed(x, d):\n",
    "    try:\n",
    "        if dog_group[replace_f(x)] == d: \n",
    "            return 1 \n",
    "        else: \n",
    "            return 0\n",
    "    except:\n",
    "        return 0\n",
    "for d in Top30dogs:\n",
    "    final_df.loc[:, 'dogbreed_' + d] = final_df['breed'].apply(transform_dog_breed,d = d)"
   ]
  },
  {
   "cell_type": "markdown",
   "metadata": {},
   "source": [
    "## TOP 20 Cats"
   ]
  },
  {
   "cell_type": "code",
   "execution_count": 13,
   "metadata": {
    "collapsed": true
   },
   "outputs": [],
   "source": [
    "cat_breed = final_df.loc[final_df.animal_type == 'Cat','breed']\n",
    "replace_f = lambda x: str(x).replace(' Mix',\"\")\n",
    "v_replace_f = np.vectorize(replace_f)\n",
    "cat_breed = np.unique(v_replace_f(cat_breed))\n",
    "cat_breed.sort()\n",
    "cat_group = {}\n",
    "current_group = cat_breed[0]"
   ]
  },
  {
   "cell_type": "code",
   "execution_count": 14,
   "metadata": {
    "collapsed": false
   },
   "outputs": [],
   "source": [
    "for c in cat_breed:\n",
    "    if c.startswith(current_group):\n",
    "        pass\n",
    "    else:\n",
    "        current_group = c\n",
    "    cat_group[c] = current_group[:]"
   ]
  },
  {
   "cell_type": "code",
   "execution_count": 15,
   "metadata": {
    "collapsed": false
   },
   "outputs": [],
   "source": [
    "cat_breed_df = final_df.loc[final_df.animal_type == 'Cat',['breed','target','age_upon_outcome']]\n",
    "cat_breed_df['breed'] = cat_breed_df['breed'].apply(lambda x: cat_group[replace_f(x)])\n",
    "cat_breed_df['breed'].value_counts().sort_values(ascending = False)\n",
    "Top20cats = cat_breed_df['breed'].value_counts().index[:30]\n",
    "def transform_cat_breed(x, d):\n",
    "    try:\n",
    "        if cat_group[replace_f(x)] == d: \n",
    "            return 1 \n",
    "        else: \n",
    "            return 0\n",
    "    except:\n",
    "        return 0\n",
    "for d in Top20cats:\n",
    "    final_df.loc[:, 'catbreed_' + d] = final_df['breed'].apply(transform_cat_breed,d = d)"
   ]
  },
  {
   "cell_type": "markdown",
   "metadata": {},
   "source": [
    "## Colors"
   ]
  },
  {
   "cell_type": "code",
   "execution_count": 16,
   "metadata": {
    "collapsed": false
   },
   "outputs": [],
   "source": [
    "color_list = [\"Black\", \"Dark color\", \"Light color\", \"muti-color\"]\n",
    "def transform_color(x, d):\n",
    "    if x == \"Black\" and d == \"Black\":\n",
    "        return 1\n",
    "    elif (\"Tan\" in x or \"Brown\" in x or \"Black\" in x or \"Black\" in x) and \"White\" not in x and d == \"Dark Color\":\n",
    "        return 1\n",
    "    elif \"White\" in x and d == \"Light color\":\n",
    "        return 1\n",
    "    elif \"/\" in x and d == \"muti-color\":\n",
    "        return 1\n",
    "    else:\n",
    "        return 0\n"
   ]
  },
  {
   "cell_type": "code",
   "execution_count": 17,
   "metadata": {
    "collapsed": false,
    "scrolled": true
   },
   "outputs": [],
   "source": [
    "for co in color_list:\n",
    "    final_df.loc[:, 'color' + co] = final_df['color'].apply(transform_color,d = co)"
   ]
  },
  {
   "cell_type": "markdown",
   "metadata": {},
   "source": [
    "Finally, we put everything together and get the training and testing dataset"
   ]
  },
  {
   "cell_type": "code",
   "execution_count": 18,
   "metadata": {
    "collapsed": false
   },
   "outputs": [],
   "source": [
    "dummies = pd.get_dummies(final_df[['sex_upon_outcome','animal_type','intake_condition','intake_type']], drop_first=True)\n",
    "final_df = pd.concat([final_df, dummies], axis = 1)\n",
    "all_var = ['age_upon_outcome_(years)','outcome_hour','outcome_month'] + list(dummies.columns) + ['color' + co for co in color_list] + ['catbreed_' + d for d in Top20cats] + ['dogbreed_' + d for d in Top30dogs]\n",
    "X_train, X_test, y_train, y_test = train_test_split(final_df[all_var], final_df['target'], test_size=0.33, random_state=42)"
   ]
  },
  {
   "cell_type": "markdown",
   "metadata": {},
   "source": [
    "# Model Training"
   ]
  },
  {
   "cell_type": "markdown",
   "metadata": {},
   "source": [
    "## Set base model\n",
    "\n",
    "To begin the model training, we start with a base model set. Five models are going to be trained without any parameter tuning or optimization. There are two goals here: 1. we can easily identify the best algorithm for this data and get an general idea of the training time. 2. The final model has to have better performance than the base model set in this section.\n",
    "\n",
    "To evaluate the model, I choose the weighted F1 score as the metric since it consider both the precision and recall. The weighted F1 score will consider the inbalance between different labels.\n",
    "\n",
    "According to the initial base models, xgboost has the best performance, followed by neutral network. Decision Tree and KNN suffers from the overfitting. SVM uses the longest time since the kernel is set to be rbf."
   ]
  },
  {
   "cell_type": "code",
   "execution_count": 19,
   "metadata": {
    "collapsed": false
   },
   "outputs": [],
   "source": [
    "#To evaluate the training time, a timer function will be create\n",
    "def timer(start_time=None):\n",
    "    if not start_time:\n",
    "        start_time = datetime.now()\n",
    "        return start_time\n",
    "    elif start_time:\n",
    "        thour, temp_sec = divmod((datetime.now() - start_time).total_seconds(), 3600)\n",
    "        tmin, tsec = divmod(temp_sec, 60)\n",
    "        print('Time taken: %i hours %i minutes and %s seconds.' % (thour, tmin, round(tsec, 2)))\n",
    "DT = DecisionTreeClassifier()\n",
    "NN = MLPClassifier()\n",
    "xgb = XGBClassifier()\n",
    "SM = svm.SVC()\n",
    "Knn = KNeighborsClassifier()\n",
    "model_dict = {\"Decision_tree\": DT, \"Neural_network\": NN, \"xgb\": xgb, \"SVM\":SM, \"KNN\" :Knn}"
   ]
  },
  {
   "cell_type": "code",
   "execution_count": 20,
   "metadata": {
    "collapsed": false
   },
   "outputs": [
    {
     "name": "stdout",
     "output_type": "stream",
     "text": [
      "Decision_tree: The training set F1 score is 0.97 and the test set F1 score is 0.64\n",
      "Time taken: 0 hours 0 minutes and 1.46 seconds.\n",
      "__________________________________________________________________________________\n",
      "Neural_network: The training set F1 score is 0.71 and the test set F1 score is 0.7\n",
      "Time taken: 0 hours 0 minutes and 4.05 seconds.\n",
      "__________________________________________________________________________________\n"
     ]
    },
    {
     "ename": "KeyboardInterrupt",
     "evalue": "",
     "output_type": "error",
     "traceback": [
      "\u001b[0;31m---------------------------------------------------------------------------\u001b[0m",
      "\u001b[0;31mKeyboardInterrupt\u001b[0m                         Traceback (most recent call last)",
      "\u001b[0;32m<ipython-input-20-740dff17b77d>\u001b[0m in \u001b[0;36m<module>\u001b[0;34m()\u001b[0m\n\u001b[1;32m      1\u001b[0m \u001b[1;32mfor\u001b[0m \u001b[0mmodel\u001b[0m \u001b[1;32min\u001b[0m \u001b[0mmodel_dict\u001b[0m\u001b[1;33m:\u001b[0m\u001b[1;33m\u001b[0m\u001b[0m\n\u001b[1;32m      2\u001b[0m     \u001b[0mstart_time\u001b[0m \u001b[1;33m=\u001b[0m \u001b[0mtimer\u001b[0m\u001b[1;33m(\u001b[0m\u001b[0mNone\u001b[0m\u001b[1;33m)\u001b[0m\u001b[1;33m\u001b[0m\u001b[0m\n\u001b[0;32m----> 3\u001b[0;31m     \u001b[0mmodel_dict\u001b[0m\u001b[1;33m[\u001b[0m\u001b[0mmodel\u001b[0m\u001b[1;33m]\u001b[0m\u001b[1;33m.\u001b[0m\u001b[0mfit\u001b[0m\u001b[1;33m(\u001b[0m\u001b[0mX_train\u001b[0m\u001b[1;33m,\u001b[0m \u001b[0my_train\u001b[0m\u001b[1;33m)\u001b[0m\u001b[1;33m\u001b[0m\u001b[0m\n\u001b[0m\u001b[1;32m      4\u001b[0m     \u001b[0mtrainF1_score\u001b[0m \u001b[1;33m=\u001b[0m \u001b[0msklearn\u001b[0m\u001b[1;33m.\u001b[0m\u001b[0mmetrics\u001b[0m\u001b[1;33m.\u001b[0m\u001b[0mf1_score\u001b[0m\u001b[1;33m(\u001b[0m\u001b[0my_train\u001b[0m\u001b[1;33m,\u001b[0m \u001b[0mmodel_dict\u001b[0m\u001b[1;33m[\u001b[0m\u001b[0mmodel\u001b[0m\u001b[1;33m]\u001b[0m\u001b[1;33m.\u001b[0m\u001b[0mpredict\u001b[0m\u001b[1;33m(\u001b[0m\u001b[0mX_train\u001b[0m\u001b[1;33m)\u001b[0m\u001b[1;33m,\u001b[0m \u001b[0maverage\u001b[0m\u001b[1;33m=\u001b[0m\u001b[1;34m'weighted'\u001b[0m\u001b[1;33m)\u001b[0m\u001b[1;33m\u001b[0m\u001b[0m\n\u001b[1;32m      5\u001b[0m     \u001b[0mtestF1_score\u001b[0m \u001b[1;33m=\u001b[0m \u001b[0msklearn\u001b[0m\u001b[1;33m.\u001b[0m\u001b[0mmetrics\u001b[0m\u001b[1;33m.\u001b[0m\u001b[0mf1_score\u001b[0m\u001b[1;33m(\u001b[0m\u001b[0my_test\u001b[0m\u001b[1;33m,\u001b[0m \u001b[0mmodel_dict\u001b[0m\u001b[1;33m[\u001b[0m\u001b[0mmodel\u001b[0m\u001b[1;33m]\u001b[0m\u001b[1;33m.\u001b[0m\u001b[0mpredict\u001b[0m\u001b[1;33m(\u001b[0m\u001b[0mX_test\u001b[0m\u001b[1;33m)\u001b[0m\u001b[1;33m,\u001b[0m \u001b[0maverage\u001b[0m\u001b[1;33m=\u001b[0m\u001b[1;34m'weighted'\u001b[0m\u001b[1;33m)\u001b[0m\u001b[1;33m\u001b[0m\u001b[0m\n",
      "\u001b[0;32mC:\\Users\\jiang\\Anaconda2\\lib\\site-packages\\sklearn\\svm\\base.pyc\u001b[0m in \u001b[0;36mfit\u001b[0;34m(self, X, y, sample_weight)\u001b[0m\n\u001b[1;32m    187\u001b[0m \u001b[1;33m\u001b[0m\u001b[0m\n\u001b[1;32m    188\u001b[0m         \u001b[0mseed\u001b[0m \u001b[1;33m=\u001b[0m \u001b[0mrnd\u001b[0m\u001b[1;33m.\u001b[0m\u001b[0mrandint\u001b[0m\u001b[1;33m(\u001b[0m\u001b[0mnp\u001b[0m\u001b[1;33m.\u001b[0m\u001b[0miinfo\u001b[0m\u001b[1;33m(\u001b[0m\u001b[1;34m'i'\u001b[0m\u001b[1;33m)\u001b[0m\u001b[1;33m.\u001b[0m\u001b[0mmax\u001b[0m\u001b[1;33m)\u001b[0m\u001b[1;33m\u001b[0m\u001b[0m\n\u001b[0;32m--> 189\u001b[0;31m         \u001b[0mfit\u001b[0m\u001b[1;33m(\u001b[0m\u001b[0mX\u001b[0m\u001b[1;33m,\u001b[0m \u001b[0my\u001b[0m\u001b[1;33m,\u001b[0m \u001b[0msample_weight\u001b[0m\u001b[1;33m,\u001b[0m \u001b[0msolver_type\u001b[0m\u001b[1;33m,\u001b[0m \u001b[0mkernel\u001b[0m\u001b[1;33m,\u001b[0m \u001b[0mrandom_seed\u001b[0m\u001b[1;33m=\u001b[0m\u001b[0mseed\u001b[0m\u001b[1;33m)\u001b[0m\u001b[1;33m\u001b[0m\u001b[0m\n\u001b[0m\u001b[1;32m    190\u001b[0m         \u001b[1;31m# see comment on the other call to np.iinfo in this file\u001b[0m\u001b[1;33m\u001b[0m\u001b[1;33m\u001b[0m\u001b[0m\n\u001b[1;32m    191\u001b[0m \u001b[1;33m\u001b[0m\u001b[0m\n",
      "\u001b[0;32mC:\\Users\\jiang\\Anaconda2\\lib\\site-packages\\sklearn\\svm\\base.pyc\u001b[0m in \u001b[0;36m_dense_fit\u001b[0;34m(self, X, y, sample_weight, solver_type, kernel, random_seed)\u001b[0m\n\u001b[1;32m    254\u001b[0m                 \u001b[0mcache_size\u001b[0m\u001b[1;33m=\u001b[0m\u001b[0mself\u001b[0m\u001b[1;33m.\u001b[0m\u001b[0mcache_size\u001b[0m\u001b[1;33m,\u001b[0m \u001b[0mcoef0\u001b[0m\u001b[1;33m=\u001b[0m\u001b[0mself\u001b[0m\u001b[1;33m.\u001b[0m\u001b[0mcoef0\u001b[0m\u001b[1;33m,\u001b[0m\u001b[1;33m\u001b[0m\u001b[0m\n\u001b[1;32m    255\u001b[0m                 \u001b[0mgamma\u001b[0m\u001b[1;33m=\u001b[0m\u001b[0mself\u001b[0m\u001b[1;33m.\u001b[0m\u001b[0m_gamma\u001b[0m\u001b[1;33m,\u001b[0m \u001b[0mepsilon\u001b[0m\u001b[1;33m=\u001b[0m\u001b[0mself\u001b[0m\u001b[1;33m.\u001b[0m\u001b[0mepsilon\u001b[0m\u001b[1;33m,\u001b[0m\u001b[1;33m\u001b[0m\u001b[0m\n\u001b[0;32m--> 256\u001b[0;31m                 max_iter=self.max_iter, random_seed=random_seed)\n\u001b[0m\u001b[1;32m    257\u001b[0m \u001b[1;33m\u001b[0m\u001b[0m\n\u001b[1;32m    258\u001b[0m         \u001b[0mself\u001b[0m\u001b[1;33m.\u001b[0m\u001b[0m_warn_from_fit_status\u001b[0m\u001b[1;33m(\u001b[0m\u001b[1;33m)\u001b[0m\u001b[1;33m\u001b[0m\u001b[0m\n",
      "\u001b[0;32msklearn\\svm\\libsvm.pyx\u001b[0m in \u001b[0;36msklearn.svm.libsvm.fit (sklearn\\svm\\libsvm.c:2681)\u001b[0;34m()\u001b[0m\n",
      "\u001b[0;31mKeyboardInterrupt\u001b[0m: "
     ]
    }
   ],
   "source": [
    "for model in model_dict:\n",
    "    start_time = timer(None)\n",
    "    model_dict[model].fit(X_train, y_train)\n",
    "    trainF1_score = sklearn.metrics.f1_score(y_train, model_dict[model].predict(X_train), average='weighted')\n",
    "    testF1_score = sklearn.metrics.f1_score(y_test, model_dict[model].predict(X_test), average='weighted')\n",
    "    print model + \": The training set F1 score is \"+ str(round(trainF1_score, 2)) + \" and the test set F1 score is \"+ str(round(testF1_score, 2))\n",
    "    timer(start_time)\n",
    "    print(\"__________________________________________________________________________________\")"
   ]
  },
  {
   "cell_type": "markdown",
   "metadata": {},
   "source": [
    "## Learning Rate with training size\n",
    "\n",
    "In the X_train dataset, we have around 54k data points. We try the five models to see how does the performance change with the increasing training dataset. For KNN, decision tree, Neutral Network, and SVM, the performance of the model increases quickly before we have 5000 data. For xgb model, it takes at least 10k data points to reach a stable performance. After the training data point goes above 30k, the performance for both the training and test set doesn't change much with more training data points."
   ]
  },
  {
   "cell_type": "code",
   "execution_count": 169,
   "metadata": {
    "collapsed": false
   },
   "outputs": [
    {
     "name": "stdout",
     "output_type": "stream",
     "text": [
      "Decision_tree is completed!\n",
      "Neural_network is completed!\n",
      "SVM is completed!\n",
      "xgb is completed!\n",
      "KNN is completed!\n"
     ]
    }
   ],
   "source": [
    "size_list = [100, 1000, 5000, 10000, 20000, 30000, 40000, 50000, X_train.shape[0]]\n",
    "train_score_dict = {}\n",
    "test_score_dict = {}\n",
    "for model in model_dict:\n",
    "    model_train_scores = []\n",
    "    model_test_scores = []\n",
    "    for sz in size_list:\n",
    "        model_dict[model].fit(X_train.iloc[:sz,:], y_train[:sz])\n",
    "        trainF1_score = metrics.f1_score(y_train[:sz], model_dict[model].predict(X_train.iloc[:sz,:]), average='weighted')\n",
    "        testF1_score = metrics.f1_score(y_test, model_dict[model].predict(X_test), average='weighted')\n",
    "        model_train_scores.append(trainF1_score)\n",
    "        model_test_scores.append(testF1_score)\n",
    "    train_score_dict[model] = model_train_scores[:]\n",
    "    test_score_dict[model] = model_test_scores[:]\n",
    "    print model + \" is completed!\""
   ]
  },
  {
   "cell_type": "code",
   "execution_count": 175,
   "metadata": {
    "collapsed": false,
    "scrolled": false
   },
   "outputs": [
    {
     "data": {
      "image/png": "[encoded data removed]",
      "text/plain": [
       "<matplotlib.figure.Figure at 0x7444cda0>"
      ]
     },
     "metadata": {},
     "output_type": "display_data"
    }
   ],
   "source": [
    "f, axes = plt.subplots(3, 2, figsize=(10, 10), sharex=True)\n",
    "counter = 0\n",
    "for model in model_dict:\n",
    "    ax_x = counter/2\n",
    "    ax_y = counter%2\n",
    "    axes[ax_x][ax_y].plot(range(len(size_list)),train_score_dict[model], label = \"Train\" )\n",
    "    axes[ax_x][ax_y].plot(range(len(size_list)),test_score_dict[model], label = \"Test\" )\n",
    "    axes[ax_x][ax_y].set_title(model)\n",
    "    axes[ax_x][ax_y].legend(loc = \"lower right\")\n",
    "    counter += 1\n",
    "    #plt.title(model + \"Learning Rate chart\")\n",
    "plt.xticks(range(len(size_list)),size_list)\n",
    "plt.legend()"
   ]
  },
  {
   "cell_type": "markdown",
   "metadata": {},
   "source": [
    "## Model Performance with Iterations"
   ]
  },
  {
   "cell_type": "markdown",
   "metadata": {},
   "source": [
    "We only estimate the performance for Neutral Netowrk and xgboost model. The KNN and decision tree models don't have this parameter to test. For SVM, we will just allow the algorithm estimator to converge after several iterations. Number of iterations are important variables to tune for neutral network and xgboost. Usually, if the number of iteration numbers is too high, the algorithm takes too long to run. If the number of iterations is too long, the algorithm will be underfitting. We can try to estimate the best number of iterations in this section."
   ]
  },
  {
   "cell_type": "markdown",
   "metadata": {},
   "source": [
    "__Neutral Network__\n",
    "Since sklearn neutral network has the build-in function of loss_curve. It can clearly see that the model loss become relatively flat when number of iterations is larger than 60.\n",
    "\n",
    "__Gradient Boosting__\n",
    "For xgboost, we can clearly see the model performance become flat when the number of iterations is higher than 100."
   ]
  },
  {
   "cell_type": "code",
   "execution_count": 28,
   "metadata": {
    "collapsed": false
   },
   "outputs": [
    {
     "name": "stdout",
     "output_type": "stream",
     "text": [
      "Time taken: 0 hours 4 minutes and 42.71 seconds.\n"
     ]
    }
   ],
   "source": [
    "#Xgboost\n",
    "iterations = [1,30, 60, 70, 100, 120, 150, 170, 200]\n",
    "train_iteration_list = []\n",
    "test_iteration_list = []\n",
    "start_time = timer(None)\n",
    "for i in iterations:\n",
    "    model_dict[\"xgb\"] = XGBClassifier(n_estimators = i)\n",
    "    model_dict[\"xgb\"].fit(X_train, y_train)\n",
    "    trainF1_score = sklearn.metrics.f1_score(y_train, model_dict[\"xgb\"].predict(X_train), average='weighted')\n",
    "    testF1_score = sklearn.metrics.f1_score(y_test, model_dict[\"xgb\"].predict(X_test), average='weighted')\n",
    "    train_iteration_list.append(trainF1_score)\n",
    "    test_iteration_list.append(testF1_score)\n",
    "timer(start_time)"
   ]
  },
  {
   "cell_type": "code",
   "execution_count": 30,
   "metadata": {
    "collapsed": false
   },
   "outputs": [
    {
     "data": {
      "text/plain": [
       "<matplotlib.text.Text at 0x3ddf4d30>"
      ]
     },
     "execution_count": 30,
     "metadata": {},
     "output_type": "execute_result"
    },
    {
     "data": {
      "image/png": "[encoded data removed]",
      "text/plain": [
       "<matplotlib.figure.Figure at 0x2a8d30b8>"
      ]
     },
     "metadata": {},
     "output_type": "display_data"
    }
   ],
   "source": [
    "#Neutral Network plot\n",
    "f, axes = plt.subplots(1, 2, figsize=(10, 5))\n",
    "axes[0].plot(model_dict[\"Neural_network\"].loss_curve_)\n",
    "axes[0].set_ylabel('cost')\n",
    "axes[0].set_xlabel('iterations')\n",
    "axes[0].set_title(\"Neutral Netowrk Learning rate =\" + str(0.001))\n",
    "#Xgboost plot\n",
    "axes[1].plot(range(len(iterations)),train_iteration_list, label = \"Train\" )\n",
    "axes[1].plot(range(len(iterations)),test_iteration_list, label = \"Test\" )\n",
    "axes[1].set_xticklabels(iterations)\n",
    "axes[1].legend()\n",
    "axes[1].set_title(\"Xgboost\" + \"Iterations chart\")"
   ]
  },
  {
   "cell_type": "markdown",
   "metadata": {},
   "source": [
    "## Hyperparameter Tuning"
   ]
  },
  {
   "cell_type": "markdown",
   "metadata": {},
   "source": [
    "The following section implements hyperparameter tuning with grid search (random search for xgb because of too much combinations for the parameters). There are a few goals that we want to reach for each algorithm"
   ]
  },
  {
   "cell_type": "markdown",
   "metadata": {},
   "source": [
    "__Decision Tree__ :\n",
    "Since decision tree has the overfitting problem, we will tune the max depth of the tree and min samples leaf parameter to tune tree pruning."
   ]
  },
  {
   "cell_type": "code",
   "execution_count": 180,
   "metadata": {
    "collapsed": false
   },
   "outputs": [
    {
     "name": "stdout",
     "output_type": "stream",
     "text": [
      "\n",
      " Time taken: 0 hours 0 minutes and 53.72 seconds.\n",
      "0.706220441384\n"
     ]
    }
   ],
   "source": [
    "min_samples_leafs = [10, 20, 30, 40, 50]\n",
    "max_depths = [5,10,20,30,50,80]\n",
    "start_time = timer(None)\n",
    "DT_clf = GridSearchCV(estimator=model_dict[\"Decision_tree\"], param_grid=dict(min_samples_leaf=min_samples_leafs,max_depth=max_depths),\n",
    "                      n_jobs=-1, cv = 5, scoring = 'f1_weighted')\n",
    "DT_clf.fit(X_train, y_train)\n",
    "timer(start_time)\n",
    "print DT_clf.best_score_ "
   ]
  },
  {
   "cell_type": "markdown",
   "metadata": {},
   "source": [
    "__SVM__: For svm we want to which kernel method may works best. We also set the grid search to find the best penalty factor"
   ]
  },
  {
   "cell_type": "code",
   "execution_count": 182,
   "metadata": {
    "collapsed": false
   },
   "outputs": [
    {
     "name": "stdout",
     "output_type": "stream",
     "text": [
      "\n",
      " Time taken: 5 hours 14 minutes and 38.12 seconds.\n",
      "0.709571822736\n"
     ]
    }
   ],
   "source": [
    "kernels = ['linear','rbf', 'sigmoid']\n",
    "Cs = [0.1, 1 ,5, 10]\n",
    "start_time = timer(None)\n",
    "svm_clf = GridSearchCV(estimator=model_dict[\"SVM\"], param_grid=dict(kernel = kernels, C = Cs),\n",
    "                      n_jobs=3, cv = 5, scoring = 'f1_weighted')\n",
    "svm_clf.fit(X_train, y_train)\n",
    "timer(start_time)\n",
    "print svm_clf.best_score_ "
   ]
  },
  {
   "cell_type": "markdown",
   "metadata": {},
   "source": [
    "__KNN__: KNN also has the problem of overfiting. We will try to increase the n nearst neighbors and the distance metrics."
   ]
  },
  {
   "cell_type": "code",
   "execution_count": 183,
   "metadata": {
    "collapsed": false
   },
   "outputs": [
    {
     "name": "stdout",
     "output_type": "stream",
     "text": [
      "The best tet score is 0.684809975635\n"
     ]
    }
   ],
   "source": [
    "metrics = ['euclidean','minkowski', 'manhattan']\n",
    "ns = [2,5, 10, 30, 50]\n",
    "knn_clf = GridSearchCV(estimator=model_dict[\"KNN\"], param_grid=dict( metric= metrics, n_neighbors = ns),\n",
    "                      n_jobs=-1, cv = 5, scoring = 'f1_weighted')\n",
    "knn_clf.fit(X_train, y_train)\n",
    "print \"The best tet score is\", knn_clf.best_score_ \n",
    "#print knn_clf.best_estimator_"
   ]
  },
  {
   "cell_type": "markdown",
   "metadata": {},
   "source": [
    "__Neutral Network__: To get better performance, we want to see if we are able to get better performance by adding more hidden layers. Since the solver is set to 'adam', the learning rate setting is not very important since it will adjust through the iterations."
   ]
  },
  {
   "cell_type": "code",
   "execution_count": 184,
   "metadata": {
    "collapsed": false
   },
   "outputs": [
    {
     "name": "stdout",
     "output_type": "stream",
     "text": [
      "\n",
      " Time taken: 0 hours 3 minutes and 59.4 seconds.\n",
      "The best tet score is 0.716878443987\n"
     ]
    }
   ],
   "source": [
    "hidden_layer_sizes_list = [10, 50, 100, 200]\n",
    "start_time = timer(None)\n",
    "NN_clf = GridSearchCV(estimator=model_dict[\"Neural_network\"], param_grid=dict(hidden_layer_sizes =  hidden_layer_sizes_list),\n",
    "                      n_jobs=-1, cv = 5, scoring = 'f1_weighted')\n",
    "NN_clf.fit(X_train, y_train)\n",
    "timer(start_time)\n",
    "print \"The best tet score is\",NN_clf.best_score_ \n",
    "#print NN_clf.best_estimator_"
   ]
  },
  {
   "cell_type": "markdown",
   "metadata": {
    "collapsed": true
   },
   "source": [
    "__XGB__: we are going to tune the learning rate to see if the model can return a better fit. I also try to increase the number of tree and tree depth to see if that can increase the model performance. However, since xgb model takes a long time to train, random search instead of grid search is used to find the best hyperparamters."
   ]
  },
  {
   "cell_type": "code",
   "execution_count": 185,
   "metadata": {
    "collapsed": false
   },
   "outputs": [
    {
     "name": "stdout",
     "output_type": "stream",
     "text": [
      "Fitting 5 folds for each of 5 candidates, totalling 25 fits\n"
     ]
    },
    {
     "name": "stderr",
     "output_type": "stream",
     "text": [
      "[Parallel(n_jobs=4)]: Done  25 out of  25 | elapsed: 13.9min finished\n"
     ]
    },
    {
     "name": "stdout",
     "output_type": "stream",
     "text": [
      "\n",
      " Time taken: 0 hours 14 minutes and 49.48 seconds.\n",
      "The best tet score is 0.726165793688\n"
     ]
    }
   ],
   "source": [
    "params = {'min_child_weight': [1, 5, 10], 'learning_rate': [0.001, 0.01, 0.1, 1, 5], 'n_estimators': [100, 150, 200], 'max_depth': [3, 4, 5]}\n",
    "xgb = XGBClassifier(objective='multi:softprob',silent=True, nthread=1)\n",
    "folds = 5\n",
    "param_comb = 5\n",
    "skf = StratifiedKFold(n_splits=folds, shuffle = True, random_state = 1001)\n",
    "random_search = RandomizedSearchCV(xgb, param_distributions=params, n_iter=param_comb, scoring='f1_weighted', n_jobs=4, cv=skf.split(X_train,y_train), verbose=3, random_state=1001 )\n",
    "start_time = timer(None)\n",
    "random_search.fit(X_train, y_train)\n",
    "timer(start_time)\n",
    "print \"The best tet score is\", random_search.best_score_\n"
   ]
  },
  {
   "cell_type": "markdown",
   "metadata": {},
   "source": [
    "The xgb model still get the best score in all algorithms. The next step is to use the best parameter combination of xgb to train the whole training dataset. This will be our final model. The final model performs slightly better than than the default setting."
   ]
  },
  {
   "cell_type": "code",
   "execution_count": 186,
   "metadata": {
    "collapsed": false
   },
   "outputs": [
    {
     "name": "stdout",
     "output_type": "stream",
     "text": [
      "The best tet score is XGBClassifier(base_score=0.5, colsample_bylevel=1, colsample_bytree=1,\n",
      "       gamma=0, learning_rate=1, max_delta_step=0, max_depth=3,\n",
      "       min_child_weight=5, missing=None, n_estimators=100, nthread=1,\n",
      "       objective='multi:softprob', reg_alpha=0, reg_lambda=1,\n",
      "       scale_pos_weight=1, seed=0, silent=True, subsample=1)\n"
     ]
    }
   ],
   "source": [
    "print \"The best tet score is\", random_search.best_estimator_"
   ]
  },
  {
   "cell_type": "code",
   "execution_count": 187,
   "metadata": {
    "collapsed": true
   },
   "outputs": [],
   "source": [
    "final_xgb = XGBClassifier(base_score=0.5, colsample_bylevel=1, colsample_bytree=1,\n",
    "       gamma=0, learning_rate=1, max_delta_step=0, max_depth=3,\n",
    "       min_child_weight=5, missing=None, n_estimators=100, nthread=1,\n",
    "       objective='multi:softprob', reg_alpha=0, reg_lambda=1,\n",
    "       scale_pos_weight=1, seed=0, silent=True, subsample=1)"
   ]
  },
  {
   "cell_type": "code",
   "execution_count": 192,
   "metadata": {
    "collapsed": false
   },
   "outputs": [
    {
     "name": "stdout",
     "output_type": "stream",
     "text": [
      "model- xgb: The training set F1 score is 0.743240293633\n",
      "model- xgb: The test set F1 score is 0.723366790207\n",
      "model- xgb: The test set accuracy is 0.727012590614\n",
      "\n",
      " Time taken: 0 hours 1 minutes and 2.47 seconds.\n"
     ]
    }
   ],
   "source": [
    "start_time = timer(None)\n",
    "final_xgb.fit(X_train, y_train)\n",
    "trainF1_score = sklearn.metrics.f1_score(y_train, final_xgb.predict(X_train), average='weighted')\n",
    "testF1_score = sklearn.metrics.f1_score(y_test, final_xgb.predict(X_test), average='weighted')\n",
    "print \"model- xgb\" + \": The training set F1 score is \"+ str(trainF1_score)\n",
    "print \"model- xgb\" + \": The test set F1 score is \"+ str(testF1_score)\n",
    "print \"model- xgb\" + \": The test set accuracy is \"+ str(sklearn.metrics.accuracy_score(y_test, final_xgb.predict(X_test)))\n",
    "timer(start_time)"
   ]
  },
  {
   "cell_type": "markdown",
   "metadata": {},
   "source": [
    "## Feature importance"
   ]
  },
  {
   "cell_type": "markdown",
   "metadata": {},
   "source": [
    "The age/time/month/sex are the most factors determining the outcome of the model"
   ]
  },
  {
   "cell_type": "code",
   "execution_count": 207,
   "metadata": {
    "collapsed": false
   },
   "outputs": [],
   "source": [
    "feature_importance = zip(X_train.columns,final_xgb.feature_importances_)"
   ]
  },
  {
   "cell_type": "code",
   "execution_count": 208,
   "metadata": {
    "collapsed": false
   },
   "outputs": [
    {
     "name": "stdout",
     "output_type": "stream",
     "text": [
      "The  0 most important feature is  ('age_upon_outcome_(years)', 0.19679186)\n",
      "The  1 most important feature is  ('outcome_hour', 0.16510172)\n",
      "The  2 most important feature is  ('outcome_month', 0.10837246)\n",
      "The  3 most important feature is  ('sex_upon_outcome_Neutered Male', 0.031298906)\n",
      "The  4 most important feature is  ('intake_type_Stray', 0.029342722)\n",
      "The  5 most important feature is  ('intake_type_Owner Surrender', 0.025039123)\n",
      "The  6 most important feature is  ('sex_upon_outcome_Spayed Female', 0.02425665)\n",
      "The  7 most important feature is  ('intake_condition_Normal', 0.023082942)\n",
      "The  8 most important feature is  ('intake_type_Public Assist', 0.022691706)\n",
      "The  9 most important feature is  ('animal_type_Dog', 0.021517998)\n",
      "The  10 most important feature is  ('sex_upon_outcome_Intact Male', 0.02112676)\n",
      "The  11 most important feature is  ('animal_type_Cat', 0.02112676)\n",
      "The  12 most important feature is  ('colormuti-color', 0.015258216)\n",
      "The  13 most important feature is  ('dogbreed_Pit Bull', 0.015258216)\n",
      "The  14 most important feature is  ('colorLight color', 0.014084507)\n"
     ]
    }
   ],
   "source": [
    "feature_importance.sort(key=lambda x: x[1], reverse = True)\n",
    "for i, f in enumerate(feature_importance[:15]):\n",
    "    print \"The \", str(i) , \"most important feature is \", f"
   ]
  },
  {
   "cell_type": "markdown",
   "metadata": {},
   "source": [
    "# Conclusion\n",
    "\n",
    "In conclusion, we analyze the austin animal shelter data to explore the final outcome of the animal and try to forecast the outcome when the animal is taken to the shelter. To find the best algorithm, we explore 5 different method - KNN, decision tree, Neurtal Network, Xgboost, and SVM. A base model is built up to fit each of the method for a comparison point. To improve the performance of the algorithm, we explore the model performance's relationship with the datasize and the number of iterations. Finally, we use grid search to find the best hyperparameter for each model (the parameter is set to fix problem (underfitting or overfitting) we find in the base model). \n",
    "\n",
    "The final model is xgboost model with 100 estimator and a learning rate of 1. We have the F1 score at 0.723. The accuracy of the final model is around the same level. That means, when the animal came to the shelter, there is a 72.7% chance that we predict its final outcome. We also explore the feature importance of the final model and find that the age/time/month/sex are the most factor determining the outcome of the model.\n",
    "\n",
    "Overally, the running time of model training is not a problem for this question since the data is relatively small. However, it does become an issue when we try to grid search the best paramter for xgboost since it will invoke hundreds of hyperparameter combination, plus the k-fold search. We choose random search in this question. The final result is not ideal but acceptable. If possible, it is better we can add more variables(like animal photos) to the dataset, which can greatly help to improve the prediction(and of course with more investment)."
   ]
  }
 ],
 "metadata": {
  "kernelspec": {
   "display_name": "Python 2",
   "language": "python",
   "name": "python2"
  },
  "language_info": {
   "codemirror_mode": {
    "name": "ipython",
    "version": 2
   },
   "file_extension": ".py",
   "mimetype": "text/x-python",
   "name": "python",
   "nbconvert_exporter": "python",
   "pygments_lexer": "ipython2",
   "version": "2.7.13"
  }
 },
 "nbformat": 4,
 "nbformat_minor": 2
}
